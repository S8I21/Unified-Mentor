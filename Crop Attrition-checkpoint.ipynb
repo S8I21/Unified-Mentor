{
 "cells": [
  {
   "cell_type": "code",
   "execution_count": 3,
   "id": "977e6525-6712-4d61-a362-ec7824df132f",
   "metadata": {},
   "outputs": [],
   "source": [
    "import pandas as pd\n",
    "\n",
    "# Load the Excel file (replace with your actual file path)\n",
    "file_path = 'C:/Users/SHIVANSH/Downloads/Seperate dataset.xlsx'\n",
    "\n",
    "\n"
   ]
  },
  {
   "cell_type": "code",
   "execution_count": 5,
   "id": "791b321b-99ee-419b-8dd5-17e3b41755a9",
   "metadata": {},
   "outputs": [
    {
     "name": "stdout",
     "output_type": "stream",
     "text": [
      "Total yield for 'Whole Year' crops: 68889.76\n"
     ]
    }
   ],
   "source": [
    "# Load the dataset into a DataFrame\n",
    "df = pd.read_excel(file_path)\n",
    "\n",
    "# Normalize season names to ensure consistency (lowercase and trim spaces)\n",
    "df['Season'] = df['Season'].str.strip().str.lower()\n",
    "\n",
    "# Filter rows where the Season is 'whole year' (after normalization)\n",
    "whole_year_crops = df[df['Season'] == 'whole year']\n",
    "\n",
    "# Calculate the total yield for crops growing during the whole year\n",
    "total_yield = whole_year_crops['Yield'].sum()\n",
    "\n",
    "# Round the total yield to 2 decimal places\n",
    "total_yield_rounded = round(total_yield, 2)\n",
    "\n",
    "# Display the total yield rounded to 2 decimal places\n",
    "print(f\"Total yield for 'Whole Year' crops: {total_yield_rounded}\")"
   ]
  },
  {
   "cell_type": "code",
   "execution_count": 7,
   "id": "74981b1b-7f68-4ab9-a7c2-6630a6d433cd",
   "metadata": {},
   "outputs": [
    {
     "name": "stdout",
     "output_type": "stream",
     "text": [
      "Total yield for 'Autumn' crops: 29.39\n"
     ]
    }
   ],
   "source": [
    "# Further clean the Season column by removing extra spaces and unwanted characters\n",
    "df['Season'] = df['Season'].str.strip().str.lower()\n",
    "\n",
    "# Now filter for 'autumn' again\n",
    "autumn_crops = df[df['Season'] == 'autumn']\n",
    "\n",
    "# Calculate total yield for autumn crops\n",
    "total_yield_autumn = autumn_crops['Yield'].sum()\n",
    "total_yield_autumn_rounded = round(total_yield_autumn, 2)\n",
    "\n",
    "# Display the result\n",
    "print(f\"Total yield for 'Autumn' crops: {total_yield_autumn_rounded}\")\n"
   ]
  },
  {
   "cell_type": "code",
   "execution_count": 9,
   "id": "8652d232-a612-4b91-b0c3-7ded3b5f9c42",
   "metadata": {},
   "outputs": [
    {
     "name": "stdout",
     "output_type": "stream",
     "text": [
      "Total yield for 'Kharif' crops: 49.94\n"
     ]
    }
   ],
   "source": [
    "# Further clean the Season column by removing extra spaces and unwanted characters\n",
    "df['Season'] = df['Season'].str.strip().str.lower()\n",
    "\n",
    "# Now filter for 'autumn' again\n",
    "kharif_crops = df[df['Season'] == 'kharif']\n",
    "\n",
    "# Calculate total yield for autumn crops\n",
    "total_yield_kharif = kharif_crops['Yield'].sum()\n",
    "total_yield_kharif_rounded = round(total_yield_kharif, 2)\n",
    "\n",
    "# Display the result\n",
    "print(f\"Total yield for 'Kharif' crops: {total_yield_kharif_rounded}\")\n"
   ]
  },
  {
   "cell_type": "code",
   "execution_count": 11,
   "id": "04e7c45f-108c-41ee-9c04-a4c9655007cc",
   "metadata": {},
   "outputs": [
    {
     "name": "stdout",
     "output_type": "stream",
     "text": [
      "Total yield for 'Rabi' crops: 85.09\n"
     ]
    }
   ],
   "source": [
    "# Further clean the Season column by removing extra spaces and unwanted characters\n",
    "df['Season'] = df['Season'].str.strip().str.lower()\n",
    "\n",
    "# Now filter for 'rabi' (lowercase) since we've normalized the column\n",
    "rabi_crops = df[df['Season'] == 'rabi']\n",
    "\n",
    "# Calculate total yield for rabi crops\n",
    "total_yield_rabi = rabi_crops['Yield'].sum()\n",
    "total_yield_rabi_rounded = round(total_yield_rabi, 2)\n",
    "\n",
    "# Display the result\n",
    "print(f\"Total yield for 'Rabi' crops: {total_yield_rabi_rounded}\")\n",
    "\n",
    "\n"
   ]
  },
  {
   "cell_type": "code",
   "execution_count": 13,
   "id": "49ecf175-e31f-4796-b3ec-9f6b86443f04",
   "metadata": {},
   "outputs": [
    {
     "name": "stdout",
     "output_type": "stream",
     "text": [
      "       State_Name   District_Name  Crop_Year       Season      Crop   Area  \\\n",
      "0  Andhra Pradesh   WEST GODAVARI       1998  Whole Year   Coconut   21729   \n",
      "1  Andhra Pradesh      SRIKAKULAM       1997  Whole Year   Coconut   13811   \n",
      "2  Andhra Pradesh    SPSR NELLORE       1997  Whole Year   Coconut     491   \n",
      "3  Andhra Pradesh         KRISHNA       1997  Whole Year   Coconut    1829   \n",
      "4  Andhra Pradesh  VISAKHAPATANAM       1997  Whole Year   Coconut    7416   \n",
      "\n",
      "   Production         Yield Unnamed: 8  Unnamed: 9  \n",
      "0   718991000  33089.005477        NaN         NaN  \n",
      "1   328149000  23759.973934        NaN         NaN  \n",
      "2    10645000  21680.244399        NaN         NaN  \n",
      "3    39653000  21680.153089        NaN         NaN  \n",
      "4   160779000  21680.016181        NaN         NaN  \n"
     ]
    }
   ],
   "source": [
    "# Load a specific sheet\n",
    "df_sheet1 = pd.read_excel(file_path, sheet_name='Andra Pradesh')\n",
    "\n",
    "# Display the first few rows of the specific sheet\n",
    "print(df_sheet1.head())\n"
   ]
  },
  {
   "cell_type": "code",
   "execution_count": 23,
   "id": "66f7465f-6ac7-45ab-a96f-a75ac491fb10",
   "metadata": {},
   "outputs": [
    {
     "name": "stdout",
     "output_type": "stream",
     "text": [
      "       State_Name   District_Name  Crop_Year       Season      Crop   Area  \\\n",
      "0  Andhra Pradesh   WEST GODAVARI       1998  Whole Year   Coconut   21729   \n",
      "1  Andhra Pradesh      SRIKAKULAM       1997  Whole Year   Coconut   13811   \n",
      "2  Andhra Pradesh    SPSR NELLORE       1997  Whole Year   Coconut     491   \n",
      "3  Andhra Pradesh         KRISHNA       1997  Whole Year   Coconut    1829   \n",
      "4  Andhra Pradesh  VISAKHAPATANAM       1997  Whole Year   Coconut    7416   \n",
      "\n",
      "   Production         Yield Unnamed: 8  Unnamed: 9  \n",
      "0   718991000  33089.005477        NaN         NaN  \n",
      "1   328149000  23759.973934        NaN         NaN  \n",
      "2    10645000  21680.244399        NaN         NaN  \n",
      "3    39653000  21680.153089        NaN         NaN  \n",
      "4   160779000  21680.016181        NaN         NaN  \n"
     ]
    }
   ],
   "source": [
    "df_ap = pd.read_excel(file_path, sheet_name='Andra Pradesh')\n",
    "\n",
    "# Display the first few rows of the sheet (optional)\n",
    "print(df_ap.head())\n",
    "\n"
   ]
  },
  {
   "cell_type": "code",
   "execution_count": 33,
   "id": "267f1bbc-de1b-4967-a388-b1a49727572d",
   "metadata": {},
   "outputs": [
    {
     "name": "stdout",
     "output_type": "stream",
     "text": [
      "       State_Name   District_Name  Crop_Year       Season      Crop   Area  \\\n",
      "0  Andhra Pradesh   WEST GODAVARI       1998  Whole Year   Coconut   21729   \n",
      "1  Andhra Pradesh      SRIKAKULAM       1997  Whole Year   Coconut   13811   \n",
      "2  Andhra Pradesh    SPSR NELLORE       1997  Whole Year   Coconut     491   \n",
      "3  Andhra Pradesh         KRISHNA       1997  Whole Year   Coconut    1829   \n",
      "4  Andhra Pradesh  VISAKHAPATANAM       1997  Whole Year   Coconut    7416   \n",
      "\n",
      "   Production         Yield Unnamed: 8  Unnamed: 9  \n",
      "0   718991000  33089.005477        NaN         NaN  \n",
      "1   328149000  23759.973934        NaN         NaN  \n",
      "2    10645000  21680.244399        NaN         NaN  \n",
      "3    39653000  21680.153089        NaN         NaN  \n",
      "4   160779000  21680.016181        NaN         NaN  \n",
      "Total yield for 'Kharif' crops: 20290.06\n",
      "Total yield for 'Rabi' crops: 11021.81\n",
      "Total yield for 'Whole Year' crops: 1834408.16\n"
     ]
    }
   ],
   "source": [
    "import pandas as pd\n",
    "\n",
    "# Load the Excel file (replace with your actual file path)\n",
    "file_path = 'C:/Users/SHIVANSH/Downloads/Seperate dataset.xlsx'\n",
    "\n",
    "# Load the specific sheet 'Andra Pradesh'\n",
    "df_ap = pd.read_excel(file_path, sheet_name='Andra Pradesh')\n",
    "\n",
    "# Display the first few rows of the sheet (optional)\n",
    "print(df_ap.head())\n",
    "\n",
    "# Normalize the 'Season' column to ensure consistency (lowercase and strip spaces)\n",
    "df_ap['Season'] = df_ap['Season'].str.strip().str.lower()\n",
    "\n",
    "# Calculate the total yield for Autumn\n",
    "autumn_crops = df_ap[df_ap['Season'] == 'kharif']\n",
    "total_yield_kharif= autumn_crops['Yield'].sum()\n",
    "total_yield_kharif_rounded = round(total_yield_kharif, 2)\n",
    "\n",
    "# Calculate the total yield for Rabi\n",
    "rabi_crops = df_ap[df_ap['Season'] == 'rabi']\n",
    "total_yield_rabi = rabi_crops['Yield'].sum()\n",
    "total_yield_rabi_rounded = round(total_yield_rabi, 2)\n",
    "\n",
    "# Calculate the total yield for Whole Year\n",
    "whole_year_crops = df_ap[df_ap['Season'] == 'whole year']\n",
    "total_yield_whole_year = whole_year_crops['Yield'].sum()\n",
    "total_yield_whole_year_rounded = round(total_yield_whole_year, 2)\n",
    "\n",
    "# Print the results\n",
    "print(f\"Total yield for 'Kharif' crops: {total_yield_kharif_rounded}\")\n",
    "print(f\"Total yield for 'Rabi' crops: {total_yield_rabi_rounded}\")\n",
    "print(f\"Total yield for 'Whole Year' crops: {total_yield_whole_year_rounded}\")\n"
   ]
  },
  {
   "cell_type": "code",
   "execution_count": 39,
   "id": "199708de-63d1-4c43-8df9-9964e44fe6d9",
   "metadata": {},
   "outputs": [
    {
     "name": "stdout",
     "output_type": "stream",
     "text": [
      "  State_Name District_Name  Crop_Year       Season      Crop  Area  \\\n",
      "0      Assam        KAMRUP       1999  Whole Year   Coconut   2026   \n",
      "1      Assam     LAKHIMPUR       1999  Whole Year   Coconut    192   \n",
      "2      Assam      GOLAGHAT       1998  Whole Year   Coconut    658   \n",
      "3      Assam      GOLAGHAT       1998  Whole Year   Coconut    612   \n",
      "4      Assam      GOLAGHAT       1998  Whole Year   Coconut    639   \n",
      "\n",
      "   Production         Yield  \n",
      "0    57405000  28334.155972  \n",
      "1     5044000  26270.833333  \n",
      "2    16062000  24410.334347  \n",
      "3    13555000  22148.692810  \n",
      "4    14029000  21954.616588  \n",
      "Unique crops in the 'Assam' sheet:\n",
      "['whole year' 'kharif' 'rabi' 'summer' 'winter' 'autumn']\n"
     ]
    }
   ],
   "source": [
    "df_assam = pd.read_excel(file_path, sheet_name='Assam')\n",
    "\n",
    "# Display the first few rows of the sheet (optional)\n",
    "print(df_assam.head())\n",
    "\n",
    "# Normalize the 'Crops' column by removing any extra spaces and converting to lowercase for consistency\n",
    "df_assam['Season'] = df_assam['Season'].str.strip().str.lower()\n",
    "\n",
    "# Find the unique crops\n",
    "unique_season = df_assam['Season'].unique()\n",
    "\n",
    "# Display the unique crops\n",
    "print(\"Unique crops in the 'Assam' sheet:\")\n",
    "print(unique_season)"
   ]
  },
  {
   "cell_type": "code",
   "execution_count": 45,
   "id": "62e30af0-37c1-4c02-92d6-3b68b6cca82a",
   "metadata": {},
   "outputs": [
    {
     "name": "stdout",
     "output_type": "stream",
     "text": [
      "Total yield for 'whole year' crops: 2150830.43\n",
      "Total yield for 'kharif' crops: 13373.92\n",
      "Total yield for 'rabi' crops: 6359.99\n",
      "Total yield for 'summer' crops: 1100.62\n",
      "Total yield for 'winter' crops: 943.28\n",
      "Total yield for 'autumn' crops: 666.46\n"
     ]
    }
   ],
   "source": [
    "import pandas as pd\n",
    "\n",
    "# Load the Excel file (replace with your actual file path)\n",
    "file_path = 'C:/Users/SHIVANSH/Downloads/Seperate dataset.xlsx'\n",
    "\n",
    "# Load the specific sheet 'Assam'\n",
    "df_assam = pd.read_excel(file_path, sheet_name='Assam')\n",
    "\n",
    "# Normalize the 'Season' column to ensure consistency (lowercase and trim spaces)\n",
    "df_assam['Season'] = df_assam['Season'].str.strip().str.lower()\n",
    "\n",
    "# List of all seasons to calculate the total production\n",
    "seasons = ['whole year', 'kharif', 'rabi', 'summer', 'winter', 'autumn']\n",
    "\n",
    "# Dictionary to store total yield for each season\n",
    "season_yields = {}\n",
    "\n",
    "# Loop through each season and calculate the total yield\n",
    "for season in seasons:\n",
    "    season_crops = df_assam[df_assam['Season'] == season]\n",
    "    total_yield = season_crops['Yield'].sum()\n",
    "    total_yield_rounded = round(total_yield, 2)\n",
    "    season_yields[season] = total_yield_rounded\n",
    "\n",
    "# Display the total yield for each season\n",
    "for season, yield_value in season_yields.items():\n",
    "    print(f\"Total yield for '{season}' crops: {yield_value}\")\n",
    "\n",
    "\n"
   ]
  },
  {
   "cell_type": "code",
   "execution_count": 49,
   "id": "7531b69a-e03a-43c9-bf7c-dcdf71426a63",
   "metadata": {},
   "outputs": [
    {
     "name": "stdout",
     "output_type": "stream",
     "text": [
      "Total yield for 'whole year' crops: 41191.51\n",
      "Total yield for 'kharif' crops: 11025.25\n",
      "Total yield for 'rabi' crops: 8634.74\n",
      "Total yield for 'summer' crops: 3111.02\n",
      "Total yield for 'winter' crops: 881.87\n",
      "Total yield for 'autumn' crops: 1399.83\n"
     ]
    }
   ],
   "source": [
    "import pandas as pd\n",
    "\n",
    "# Load the Excel file (replace with your actual file path)\n",
    "file_path = 'C:/Users/SHIVANSH/Downloads/Seperate dataset.xlsx'\n",
    "\n",
    "# Load the specific sheet 'Assam'\n",
    "df_bihar = pd.read_excel(file_path, sheet_name='Bihar')\n",
    "\n",
    "# Normalize the 'Season' column to ensure consistency (lowercase and trim spaces)\n",
    "df_bihar['Season'] = df_bihar['Season'].str.strip().str.lower()\n",
    "\n",
    "# List of all seasons to calculate the total production\n",
    "seasons = ['whole year', 'kharif', 'rabi', 'summer', 'winter', 'autumn']\n",
    "\n",
    "# Dictionary to store total yield for each season\n",
    "season_yields = {}\n",
    "\n",
    "# Loop through each season and calculate the total yield\n",
    "for season in seasons:\n",
    "    season_crops = df_bihar[df_bihar['Season'] == season]\n",
    "    total_yield = season_crops['Yield'].sum()\n",
    "    total_yield_rounded = round(total_yield, 2)\n",
    "    season_yields[season] = total_yield_rounded\n",
    "\n",
    "# Display the total yield for each season\n",
    "for season, yield_value in season_yields.items():\n",
    "    print(f\"Total yield for '{season}' crops: {yield_value}\")\n",
    "\n",
    "\n"
   ]
  },
  {
   "cell_type": "code",
   "execution_count": 15,
   "id": "8b0dc8d1-60ad-453c-925c-37ff48482d54",
   "metadata": {},
   "outputs": [
    {
     "name": "stdout",
     "output_type": "stream",
     "text": [
      "Total yield for 'whole year' crops: 64832.46\n",
      "Total yield for 'kharif' crops: 11651.62\n",
      "Total yield for 'autumn' crops: 0.0\n",
      "Total yield for 'summer' crops: 8100.04\n",
      "Total yield for 'winter' crops: 0.0\n"
     ]
    }
   ],
   "source": [
    "import pandas as pd\n",
    "\n",
    "# Load the Excel file (replace with your actual file path)\n",
    "file_path = 'C:/Users/SHIVANSH/Downloads/Seperate dataset.xlsx'\n",
    "\n",
    "# Load the specific sheet 'Assam'\n",
    "df_bihar = pd.read_excel(file_path, sheet_name='Kerela')\n",
    "\n",
    "# Normalize the 'Season' column to ensure consistency (lowercase and trim spaces)\n",
    "df_bihar['Season'] = df_bihar['Season'].str.strip().str.lower()\n",
    "\n",
    "# List of all seasons to calculate the total production\n",
    "seasons = ['whole year' ,'kharif', 'autumn','summer', 'winter' ]\n",
    "\n",
    "# Dictionary to store total yield for each season\n",
    "season_yields = {}\n",
    "\n",
    "# Loop through each season and calculate the total yield\n",
    "for season in seasons:\n",
    "    season_crops = df_bihar[df_bihar['Season'] == season]\n",
    "    total_yield = season_crops['Yield'].sum()\n",
    "    total_yield_rounded = round(total_yield, 2)\n",
    "    season_yields[season] = total_yield_rounded\n",
    "\n",
    "# Display the total yield for each season\n",
    "for season, yield_value in season_yields.items():\n",
    "    print(f\"Total yield for '{season}' crops: {yield_value}\")\n",
    "\n",
    "\n"
   ]
  },
  {
   "cell_type": "code",
   "execution_count": null,
   "id": "ceb14e6b-daf0-498c-a133-ac29d1340483",
   "metadata": {},
   "outputs": [],
   "source": []
  }
 ],
 "metadata": {
  "kernelspec": {
   "display_name": "Python 3 (ipykernel)",
   "language": "python",
   "name": "python3"
  },
  "language_info": {
   "codemirror_mode": {
    "name": "ipython",
    "version": 3
   },
   "file_extension": ".py",
   "mimetype": "text/x-python",
   "name": "python",
   "nbconvert_exporter": "python",
   "pygments_lexer": "ipython3",
   "version": "3.12.4"
  }
 },
 "nbformat": 4,
 "nbformat_minor": 5
}
